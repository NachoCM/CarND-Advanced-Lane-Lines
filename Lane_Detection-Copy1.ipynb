{
 "cells": [
  {
   "cell_type": "code",
   "execution_count": 1,
   "metadata": {
    "collapsed": true
   },
   "outputs": [],
   "source": [
    "import pickle\n",
    "import cv2\n",
    "import numpy as np\n",
    "import matplotlib.pyplot as plt\n",
    "import matplotlib.image as mpimg\n",
    "import glob\n",
    "from moviepy.editor import VideoFileClip\n",
    "from IPython.display import HTML\n",
    "import time\n"
   ]
  },
  {
   "cell_type": "code",
   "execution_count": 2,
   "metadata": {
    "collapsed": true
   },
   "outputs": [],
   "source": [
    "# Read in the saved camera matrix and distortion coefficients\n",
    "# Calculated in camera_calibration.py\n",
    "dist_pickle = pickle.load(open(\"camera_cal/camera_dist_pickle.p\", \"rb\"))\n",
    "mtx = dist_pickle[\"mtx\"]\n",
    "dist = dist_pickle[\"dist\"]\n",
    "\n",
    "def undistort(img):\n",
    "    return cv2.undistort(img, mtx, dist, None, mtx)"
   ]
  },
  {
   "cell_type": "code",
   "execution_count": 3,
   "metadata": {
    "collapsed": true
   },
   "outputs": [],
   "source": [
    "#Source and destination points for perspective transformation. Obtained from an image with a straight lane\n",
    "src=np.float32([(240,695),(595,450),(1070,695),(685,450)])\n",
    "dest=np.float32([(300,720),(300,50),(1000,720),(1000,50)])\n",
    "\n",
    "#Transform perspective from car interior to a top view\n",
    "def warp(img):\n",
    "    #undistorted = cv2.undistort(img, mtx, dist, None, mtx)\n",
    "    M = cv2.getPerspectiveTransform(src, dest)\n",
    "    warped = cv2.warpPerspective(img, M, img.shape[1::-1], flags=cv2.INTER_LINEAR)\n",
    "    return warped\n",
    "#Transform perspective from top view to car interior\n",
    "def unwarp(img):\n",
    "    M = cv2.getPerspectiveTransform(dest, src)\n",
    "    unwarped = cv2.warpPerspective(img, M, img.shape[1::-1], flags=cv2.INTER_LINEAR)\n",
    "    return unwarped"
   ]
  },
  {
   "cell_type": "code",
   "execution_count": 4,
   "metadata": {
    "collapsed": true
   },
   "outputs": [],
   "source": [
    "#Binarize image attempting to keep only pixels that are \"lane candidates\"\n",
    "def binarize(img, s_thresh=(130, 255), sx_thresh=(15, 135)):\n",
    "    img = np.copy(img)\n",
    "    # Convert to HLS color space and separate the V channel\n",
    "    hls = cv2.cvtColor(img, cv2.COLOR_RGB2HLS).astype(np.float)\n",
    "    l_channel = hls[:, :, 1]\n",
    "    s_channel = hls[:, :, 2]\n",
    "    # Sobel x\n",
    "    sobelx = cv2.Sobel(l_channel, cv2.CV_64F, 1, 0)  # Take the derivative in x\n",
    "    abs_sobelx = np.absolute(sobelx)  # Absolute x derivative to accentuate lines away from horizontal\n",
    "    scaled_sobel = np.uint8(255 * abs_sobelx / np.max(abs_sobelx))\n",
    "\n",
    "    # Threshold x gradient\n",
    "    sxbinary = np.zeros_like(scaled_sobel)\n",
    "    sxbinary[(scaled_sobel >= sx_thresh[0]) & (scaled_sobel <= sx_thresh[1])] = 1\n",
    "\n",
    "    # Threshold saturation channel\n",
    "    s_binary = np.zeros_like(s_channel)\n",
    "    s_binary[(s_channel >= s_thresh[0]) & (s_channel <= s_thresh[1])] = 1\n",
    "\n",
    "    combined_binary = np.zeros_like(sxbinary)\n",
    "    combined_binary[(s_binary == 1) | (sxbinary == 1)] = 1\n",
    "    return combined_binary"
   ]
  },
  {
   "cell_type": "code",
   "execution_count": 5,
   "metadata": {
    "collapsed": true
   },
   "outputs": [],
   "source": [
    "#Apply camera distortion removal, perspective transformation and binarization to an image\n",
    "def top_view_binarized(img):\n",
    "    undistorted = undistort(img)\n",
    "    binarized = binarize(undistorted)\n",
    "    return warp(binarized)"
   ]
  },
  {
   "cell_type": "code",
   "execution_count": 6,
   "metadata": {
    "collapsed": true
   },
   "outputs": [],
   "source": [
    "#Detect lanes in a top view image\n",
    "#Returns fitted curves for left and right lanes\n",
    "def lanes_from_windows(img):\n",
    "    # Take a histogram of the bottom half of the binary top-view image\n",
    "    histogram = np.sum(img[img.shape[0] // 2:, :], axis=0)\n",
    "    # Create an output image to draw on and  visualize the result\n",
    "    out_img = np.dstack((img, img, img)) * 255\n",
    "    # Find peaks around the expected position of the lane lines (~300, 1000)\n",
    "    leftx_base = np.argmax(histogram[240:360]) + 240\n",
    "    rightx_base = np.argmax(histogram[940:1060]) + 940\n",
    "    # Choose the number of sliding windows\n",
    "    nwindows = 9\n",
    "    # Set height of windows\n",
    "    window_height = np.int(img.shape[0] / nwindows)\n",
    "    # Identify the x and y positions of all nonzero pixels in the image\n",
    "    nonzero = img.nonzero()\n",
    "    nonzeroy = np.array(nonzero[0])\n",
    "    nonzerox = np.array(nonzero[1])\n",
    "    # Current positions to be updated for each window\n",
    "    leftx_current = leftx_base\n",
    "    rightx_current = rightx_base\n",
    "    # Set the width of the windows +/- margin\n",
    "    margin = 100\n",
    "    # Set minimum number of pixels found to recenter window\n",
    "    minpix = 50\n",
    "    # Create empty lists to receive left and right lane pixel indices\n",
    "    left_lane_inds = []\n",
    "    right_lane_inds = []\n",
    "    # Step through the windows one by one\n",
    "    for window in range(nwindows):\n",
    "        # Identify window boundaries in x and y (and right and left)\n",
    "        win_y_low = img.shape[0] - (window + 1) * window_height\n",
    "        win_y_high = img.shape[0] - window * window_height\n",
    "        win_xleft_low = leftx_current - margin\n",
    "        win_xleft_high = leftx_current + margin\n",
    "        win_xright_low = rightx_current - margin\n",
    "        win_xright_high = rightx_current + margin\n",
    "        # Draw the windows on the visualization image\n",
    "        cv2.rectangle(out_img, (win_xleft_low, win_y_low), (win_xleft_high, win_y_high),\n",
    "                      (0, 255, 0), 2)\n",
    "        cv2.rectangle(out_img, (win_xright_low, win_y_low), (win_xright_high, win_y_high),\n",
    "                      (0, 255, 0), 2)\n",
    "        # Identify the nonzero pixels in x and y within the window\n",
    "        good_left_inds = ((nonzeroy >= win_y_low) & (nonzeroy < win_y_high) &\n",
    "                          (nonzerox >= win_xleft_low) & (nonzerox < win_xleft_high)).nonzero()[0]\n",
    "        good_right_inds = ((nonzeroy >= win_y_low) & (nonzeroy < win_y_high) &\n",
    "                           (nonzerox >= win_xright_low) & (nonzerox < win_xright_high)).nonzero()[0]\n",
    "        # Append these indices to the lists\n",
    "        left_lane_inds.append(good_left_inds)\n",
    "        right_lane_inds.append(good_right_inds)\n",
    "        # If you found > minpix pixels, recenter next window on their mean position\n",
    "        if len(good_left_inds) > minpix:\n",
    "            leftx_current = np.int(np.mean(nonzerox[good_left_inds]))\n",
    "        if len(good_right_inds) > minpix:\n",
    "            rightx_current = np.int(np.mean(nonzerox[good_right_inds]))\n",
    "\n",
    "    # Concatenate the arrays of indices\n",
    "    left_lane_inds = np.concatenate(left_lane_inds)\n",
    "    right_lane_inds = np.concatenate(right_lane_inds)\n",
    "    # Extract left and right line pixel positions\n",
    "    leftx = nonzerox[left_lane_inds]\n",
    "    lefty = nonzeroy[left_lane_inds]\n",
    "    rightx = nonzerox[right_lane_inds]\n",
    "    righty = nonzeroy[right_lane_inds]\n",
    "    # Fit a second order polynomial to each\n",
    "    left_fit = np.polyfit(lefty, leftx, 2, full=True)\n",
    "    right_fit = np.polyfit(righty, rightx, 2, full=True)\n",
    "\n",
    "    return left_fit, right_fit"
   ]
  },
  {
   "cell_type": "code",
   "execution_count": 7,
   "metadata": {
    "collapsed": true
   },
   "outputs": [],
   "source": [
    "#Detect lanes in a top view image, using previously detected lane curves as a starting point\n",
    "#Returns new fitted curves\n",
    "def lanes_from_previous(img, left_fit, right_fit):\n",
    "    nonzero = img.nonzero()\n",
    "    nonzeroy = np.array(nonzero[0])\n",
    "    nonzerox = np.array(nonzero[1])\n",
    "    margin = 25\n",
    "    left_lane_inds = ((nonzerox > (left_fit[0] * (nonzeroy ** 2) + left_fit[1] * nonzeroy +\n",
    "                                   left_fit[2] - margin)) & (nonzerox < (left_fit[0] * (nonzeroy ** 2) +\n",
    "                                                                         left_fit[1] * nonzeroy + left_fit[\n",
    "                                                                             2] + margin)))\n",
    "    right_lane_inds = ((nonzerox > (right_fit[0] * (nonzeroy ** 2) + right_fit[1] * nonzeroy +\n",
    "                                    right_fit[2] - margin)) & (nonzerox < (right_fit[0] * (nonzeroy ** 2) +\n",
    "                                                                           right_fit[1] * nonzeroy + right_fit[\n",
    "                                                                               2] + margin)))\n",
    "    # Extract left and right line pixel positions\n",
    "    leftx = nonzerox[left_lane_inds]\n",
    "    lefty = nonzeroy[left_lane_inds]\n",
    "    rightx = nonzerox[right_lane_inds]\n",
    "    righty = nonzeroy[right_lane_inds]\n",
    "    # Fit a second order polynomial to each\n",
    "    left_fit = np.polyfit(lefty, leftx, 2, full=True)\n",
    "    right_fit = np.polyfit(righty, rightx, 2, full=True)\n",
    "\n",
    "    return left_fit, right_fit"
   ]
  },
  {
   "cell_type": "code",
   "execution_count": 8,
   "metadata": {
    "collapsed": true
   },
   "outputs": [],
   "source": [
    "#Draw lane in an image, optionally adding a text at the top\n",
    "def draw_lane(img,left_fit,right_fit, text=\"\"):\n",
    "    #Create empty lane canvas\n",
    "    lane_img = np.zeros_like(img)\n",
    "    #Generate line points\n",
    "    ploty = np.linspace(0, img.shape[0] - 1, img.shape[0])\n",
    "    left_fitx = left_fit[0] * ploty ** 2 + left_fit[1] * ploty + left_fit[2]\n",
    "    right_fitx = right_fit[0] * ploty ** 2 + right_fit[1] * ploty + right_fit[2]\n",
    "    left_line_points = np.array([np.transpose(np.vstack([left_fitx, ploty]))])\n",
    "    right_line_points = np.array([np.flipud(np.transpose(np.vstack([right_fitx, ploty])))])\n",
    "    lane_pts = np.hstack((left_line_points, right_line_points))\n",
    "    #Color the area enclosed by the lanes\n",
    "    cv2.fillPoly(lane_img, np.int_([lane_pts]), (0,255,0))\n",
    "    #Transform lane image to car interior perspective\n",
    "    lane_img=unwarp(lane_img)\n",
    "    #Overlay lane on original (camera) image\n",
    "    composite=cv2.addWeighted(img,1,lane_img,0.3,0)\n",
    "    #Write text on top of the final image\n",
    "    cv2.putText(composite,text,(200,50), cv2.FONT_HERSHEY_SIMPLEX, 1, (255,255,255), 2)\n",
    "    return composite  "
   ]
  },
  {
   "cell_type": "code",
   "execution_count": 9,
   "metadata": {
    "collapsed": true
   },
   "outputs": [],
   "source": [
    "#Initialize global variables needed during video process\n",
    "def initialize_processing():\n",
    "    global max_residual, curverad\n",
    "    max_residual=10**10\n",
    "    curverad=None\n",
    "    position=None"
   ]
  },
  {
   "cell_type": "code",
   "execution_count": 10,
   "metadata": {
    "collapsed": true
   },
   "outputs": [],
   "source": [
    "\n",
    "def find_lane_lines(img):\n",
    "    global left_fit, right_fit, max_residual\n",
    "    if max_residual>10**7:\n",
    "        #If the fit is not satisfactory, detect lane lines with sliding window algorithm\n",
    "        left_fit,right_fit = lanes_from_windows(img)\n",
    "    else:\n",
    "        #If the fit is not so bad, detect lane lines within a margin of the previous lines\n",
    "        left_fit,right_fit = lanes_from_previous(img,left_fit[0],right_fit[0])\n",
    "    max_residual=max(left_fit[1][0],right_fit[1][0])\n",
    "    #Return the fitted lines\n",
    "    return left_fit[0], right_fit[0]"
   ]
  },
  {
   "cell_type": "code",
   "execution_count": 11,
   "metadata": {
    "collapsed": true
   },
   "outputs": [],
   "source": [
    "ym_per_pix = 30/720 # meters per pixel in y dimension\n",
    "xm_per_pix = 3.7/700 # meters per pixel in x dimension\n",
    "\n",
    "#Estimate lane road curvature radius at 'y_eval' vertical coordinate, and car position relative to the center of the lane\n",
    "def estimate_curvature_and_position(left_fit,right_fit,y_eval=720,img_width=1280):\n",
    "    global curverad,position\n",
    "    #Curve parameters scaled in meters\n",
    "    scaled_a_left=xm_per_pix / (ym_per_pix ** 2) * left_fit[0]\n",
    "    scaled_b_left=xm_per_pix / ym_per_pix * left_fit[1]\n",
    "    scaled_a_right=xm_per_pix / (ym_per_pix ** 2) * right_fit[0]\n",
    "    scaled_b_right=xm_per_pix / ym_per_pix * right_fit[1]\n",
    "    scaled_c_right=xm_per_pix / ym_per_pix \n",
    "    #Radius estimation from curve \n",
    "    left_curverad = ((1 + (2*scaled_a_left*y_eval + scaled_b_left)**2)**1.5) / np.absolute(2*scaled_a_left)\n",
    "    right_curverad = ((1 + (2*scaled_a_right*y_eval + scaled_b_right)**2)**1.5) / np.absolute(2*scaled_a_right)\n",
    "    current_curverad=np.mean((left_curverad,right_curverad))\n",
    "    #Lane line positions\n",
    "    leftx=left_fit[0] * y_eval ** 2 + left_fit[1] * y_eval + left_fit[2]\n",
    "    rightx=right_fit[0] * y_eval ** 2 + right_fit[1] * y_eval + right_fit[2]\n",
    "\n",
    "    lane_center_px=leftx+(rightx-leftx)/2\n",
    "    #Car position in pixel scale (image center - lane center)\n",
    "    position_px=img_width/2-lane_center_px\n",
    "    #Car position in meters\n",
    "    current_position=position_px*xm_per_pix\n",
    "    \n",
    "    if curverad is None:\n",
    "        #If no previous values are available, use current\n",
    "        curverad=current_curverad\n",
    "        position=current_position\n",
    "    else:\n",
    "        #Smooth output if previous values are available\n",
    "        curverad=curverad*0.9+current_curverad*0.1\n",
    "        position=position*0.9+current_position*0.1\n",
    "    return curverad, position"
   ]
  },
  {
   "cell_type": "code",
   "execution_count": 12,
   "metadata": {
    "collapsed": true
   },
   "outputs": [],
   "source": [
    "def curvature_and_position_text(radius,position):\n",
    "    if position<-0.1:\n",
    "        position_text='Position: {:0.1f}m left of lane center'.format(-position)\n",
    "    else:\n",
    "        if position>0.1:\n",
    "            position_text='Position: {:0.1f}m right of lane center'.format(position)\n",
    "        else:\n",
    "            position_text='Position: around lane center'\n",
    "            \n",
    "    if curverad>10000:\n",
    "        curve_text='Curve Radius: >10Km'\n",
    "    else:\n",
    "        curve_text = 'Curve Radius: {:0.1f}Km '.format(curverad/1000)\n",
    "        \n",
    "    return curve_text+position_text"
   ]
  },
  {
   "cell_type": "code",
   "execution_count": 13,
   "metadata": {
    "collapsed": true
   },
   "outputs": [],
   "source": [
    "def process_image(img):\n",
    "    binary_top_view = top_view_binarized(img)\n",
    "    left_fit, right_fit = find_lane_lines(binary_top_view)\n",
    "    curverad, position = estimate_curvature_and_position(left_fit, right_fit, y_eval=img.shape[0]/2, img_width=img.shape[1])\n",
    "    #text='Left: {:06,.0f} Right: {:06,.0f}'.format(left_fit[1][0], right_fit[1][0])\n",
    "    return draw_lane(img,left_fit,right_fit, curvature_and_position_text(curverad,position))"
   ]
  },
  {
   "cell_type": "code",
   "execution_count": 14,
   "metadata": {},
   "outputs": [
    {
     "name": "stdout",
     "output_type": "stream",
     "text": [
      "[MoviePy] >>>> Building video output_videos/project_video.mp4\n",
      "[MoviePy] Writing video output_videos/project_video.mp4\n"
     ]
    },
    {
     "name": "stderr",
     "output_type": "stream",
     "text": [
      "100%|█████████▉| 1260/1261 [05:58<00:00,  3.51it/s]\n"
     ]
    },
    {
     "name": "stdout",
     "output_type": "stream",
     "text": [
      "[MoviePy] Done.\n",
      "[MoviePy] >>>> Video ready: output_videos/project_video.mp4 \n",
      "\n",
      "CPU times: user 13min 9s, sys: 27 s, total: 13min 36s\n",
      "Wall time: 6min\n"
     ]
    }
   ],
   "source": [
    "initialize_processing()\n",
    "output_video = 'output_videos/project_video.mp4'\n",
    "clip1 = VideoFileClip(\"project_video.mp4\")\n",
    "output_clip = clip1.fl_image(process_image)\n",
    "%time output_clip.write_videofile(output_video, audio=False)"
   ]
  },
  {
   "cell_type": "code",
   "execution_count": null,
   "metadata": {},
   "outputs": [],
   "source": [
    "initialize_processing()\n",
    "output_video = 'output_videos/challenge_video.mp4'\n",
    "clip1 = VideoFileClip(\"challenge_video.mp4\").subclip(0,5)\n",
    "output_clip = clip1.fl_image(process_image)\n",
    "%time output_clip.write_videofile(output_video, audio=False)"
   ]
  },
  {
   "cell_type": "code",
   "execution_count": null,
   "metadata": {},
   "outputs": [],
   "source": [
    "HTML(\"\"\"\n",
    "<video width=\"960\" height=\"540\" controls>\n",
    "  <source src=\"{0}\">\n",
    "</video>\n",
    "\"\"\".format(output_clip))"
   ]
  },
  {
   "cell_type": "code",
   "execution_count": 15,
   "metadata": {
    "collapsed": true
   },
   "outputs": [],
   "source": [
    "def show_two(img,img2, caption_one=\"Original\",caption_two=\"Result\"):\n",
    "    f, (ax1, ax2) = plt.subplots(1, 2, figsize=(24, 9))\n",
    "    f.tight_layout()\n",
    "    ax1.imshow(img)\n",
    "    ax1.set_title(caption_one, fontsize=40)\n",
    "\n",
    "    ax2.imshow(img2)\n",
    "    ax2.set_title(caption_two, fontsize=40)\n",
    "    plt.subplots_adjust(left=0., right=1, top=0.9, bottom=0.)\n",
    "    plt.show()"
   ]
  },
  {
   "cell_type": "code",
   "execution_count": 16,
   "metadata": {},
   "outputs": [
    {
     "ename": "NameError",
     "evalue": "name 'img' is not defined",
     "output_type": "error",
     "traceback": [
      "\u001b[0;31m---------------------------------------------------------------------------\u001b[0m",
      "\u001b[0;31mNameError\u001b[0m                                 Traceback (most recent call last)",
      "\u001b[0;32m<ipython-input-16-7b5238f67eed>\u001b[0m in \u001b[0;36m<module>\u001b[0;34m()\u001b[0m\n\u001b[0;32m----> 1\u001b[0;31m \u001b[0mshow_two\u001b[0m\u001b[0;34m(\u001b[0m\u001b[0mimg\u001b[0m\u001b[0;34m,\u001b[0m\u001b[0mundistort\u001b[0m\u001b[0;34m(\u001b[0m\u001b[0mimg\u001b[0m\u001b[0;34m)\u001b[0m\u001b[0;34m,\u001b[0m\u001b[0mcaption_two\u001b[0m\u001b[0;34m=\u001b[0m\u001b[0;34m\"Undistorted\"\u001b[0m\u001b[0;34m)\u001b[0m\u001b[0;34m\u001b[0m\u001b[0m\n\u001b[0m",
      "\u001b[0;31mNameError\u001b[0m: name 'img' is not defined"
     ]
    }
   ],
   "source": [
    "show_two(img,undistort(img),caption_two=\"Undistorted\")"
   ]
  },
  {
   "cell_type": "code",
   "execution_count": null,
   "metadata": {},
   "outputs": [],
   "source": [
    "show_two(img,warp(img),caption_two=\"Top View\")"
   ]
  },
  {
   "cell_type": "code",
   "execution_count": null,
   "metadata": {},
   "outputs": [],
   "source": [
    "show_two(warp(img),unwarp(warp(img)),caption_one=\"Top view\",caption_two=\"Interior view from top view\")"
   ]
  },
  {
   "cell_type": "code",
   "execution_count": null,
   "metadata": {
    "scrolled": true
   },
   "outputs": [],
   "source": [
    "initialize_processing()\n",
    "img = mpimg.imread('test_images/test4.jpg')\n",
    "show_two(img,process_image(img),caption_two=\"Final Result\")"
   ]
  },
  {
   "cell_type": "code",
   "execution_count": null,
   "metadata": {
    "collapsed": true
   },
   "outputs": [],
   "source": []
  }
 ],
 "metadata": {
  "kernelspec": {
   "display_name": "Python 3",
   "language": "python",
   "name": "python3"
  },
  "language_info": {
   "codemirror_mode": {
    "name": "ipython",
    "version": 3
   },
   "file_extension": ".py",
   "mimetype": "text/x-python",
   "name": "python",
   "nbconvert_exporter": "python",
   "pygments_lexer": "ipython3",
   "version": "3.5.2"
  },
  "widgets": {
   "state": {},
   "version": "1.1.2"
  }
 },
 "nbformat": 4,
 "nbformat_minor": 2
}
